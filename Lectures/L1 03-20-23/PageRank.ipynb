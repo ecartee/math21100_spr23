{
 "cells": [
  {
   "cell_type": "markdown",
   "id": "320cbc71-ce5a-45f1-b3df-c0d01ce527b5",
   "metadata": {},
   "source": [
    "Import numpy for numerical computations"
   ]
  },
  {
   "cell_type": "code",
   "execution_count": 2,
   "id": "4dfe1bfd-21d5-4b44-a6ea-1a5ee296735a",
   "metadata": {
    "tags": []
   },
   "outputs": [],
   "source": [
    "import numpy as np"
   ]
  },
  {
   "cell_type": "markdown",
   "id": "b03897fd-5e99-4b26-8104-31ffc1504943",
   "metadata": {},
   "source": [
    "First idea: At each step, take outgoing link at random. This can be viewed as a Markov chain on a finite state space.\n",
    "Suppose we have a (very) small internet with 4 webpages that contain the following hyperlinks:\n",
    "\n",
    "- Page 1 has links to Pages 2 and 3\n",
    "- Page 2 has links to Pages 1, 2, and 3\n",
    "- Page 3 has a link to Page 1\n",
    "- Page 4 has a link to Page 2"
   ]
  },
  {
   "cell_type": "markdown",
   "id": "382643d1-95d4-4887-a4ff-ffa0ced23f56",
   "metadata": {},
   "source": [
    "The transition matrix for the corresponding Markov chain is:\n",
    "$$P = \\begin{bmatrix} 0 & 1/3 & 1 & 0 \\\\ 1/2 & 0 & 0 & 0 \\\\ 1/2 & 1/3 & 0 & 1 \\\\ 0 & 1/3 & 0 & 0 \\end{bmatrix}$$"
   ]
  },
  {
   "cell_type": "code",
   "execution_count": 7,
   "id": "e2ab03e8-05bc-42d2-b1c9-48b7aa38fb95",
   "metadata": {
    "tags": []
   },
   "outputs": [
    {
     "name": "stdout",
     "output_type": "stream",
     "text": [
      "[1.         0.8394315  0.44558621 0.44558621]\n"
     ]
    }
   ],
   "source": [
    "P = [[0,1/3,1,0],[1/2,0,0,0],[1/2,1/3,0,1],[0,1/3,0,0]]\n",
    "\n",
    "## Compute eigenvalues and eigenvectors of P using numpy\n",
    "[eigvals,eigvecs] = np.linalg.eig(P)\n",
    "\n",
    "## Note that eigenvalues may in general be complex, but their magnitude should be between 0 and 1\n",
    "print(np.abs(eigvals))"
   ]
  },
  {
   "cell_type": "markdown",
   "id": "1f62ede6-9ad4-4fbb-923b-07a93f53102d",
   "metadata": {},
   "source": [
    "Unfortunately, there may be multiple steady state vectors, as in this case where\n",
    "\n",
    "- Page 1 has a link to Page 2\n",
    "- Page 2 has a link to Page 1\n",
    "- Page 3 has a link to Page 4\n",
    "- Page 4 has a link to Page 3\n",
    "\n",
    "which leads to the transition matrix\n",
    "$$P = \\begin{bmatrix} 0 & 1 & 0 & 0 \\\\ 1 & 0 & 0 & 0 \\\\ 0 & 0 & 0 & 1 \\\\ 0 & 0 & 1 & 0 \\end{bmatrix}$$"
   ]
  },
  {
   "cell_type": "code",
   "execution_count": 8,
   "id": "3a0de44e-d3d8-475f-9b4f-6c8febd10786",
   "metadata": {
    "tags": []
   },
   "outputs": [
    {
     "name": "stdout",
     "output_type": "stream",
     "text": [
      "1.0\n",
      "[0.70710678 0.70710678 0.         0.        ]\n",
      "1.0\n",
      "[0.         0.         0.70710678 0.70710678]\n"
     ]
    }
   ],
   "source": [
    "P = [[0,1,0,0],[1,0,0,0],[0,0,0,1],[0,0,1,0]]\n",
    "\n",
    "## Compute eigenvalues and eigenvectors of P\n",
    "[V,D] = np.linalg.eig(P)\n",
    "print(V[0])\n",
    "print(D[:,0])\n",
    "print(V[2])\n",
    "print(D[:,2])"
   ]
  },
  {
   "cell_type": "markdown",
   "id": "2cb0c9b3-8d38-4a1e-b522-f38fe05b55a1",
   "metadata": {},
   "source": [
    "To avoid the problem of multiple steady state vectors, we can instead construct a transition matrix that is a regular stochastic matrix, which has only positive entries. One way of doing this is by adding a probability $$\\alpha$$ of following one of the outgoing links, with a probability $$1-\\alpha$$ of teleporting to another random webpage regardless of whether or not there is a link."
   ]
  },
  {
   "cell_type": "markdown",
   "id": "0536cfe2-f652-444d-89fd-a70e09f7ccb9",
   "metadata": {},
   "source": [
    "Running this on a radomly generated $50\\times50$ example below:"
   ]
  },
  {
   "cell_type": "code",
   "execution_count": 15,
   "id": "5ce13e28-2f88-4168-8527-4cc65ce1f176",
   "metadata": {
    "tags": []
   },
   "outputs": [
    {
     "name": "stdout",
     "output_type": "stream",
     "text": [
      "[1.         0.1138354  0.1138354  0.1153755  0.1153755  0.11473845\n",
      " 0.11473845 0.1065874  0.1065874  0.10223132 0.10223132 0.124162\n",
      " 0.08952477 0.08952477 0.10801213 0.10801213 0.10838933 0.10838933\n",
      " 0.10651377 0.10651377 0.09320633 0.09320633 0.09079354 0.09079354\n",
      " 0.0898665  0.0898665  0.08076035 0.08076035 0.0876453  0.0876453\n",
      " 0.08358854 0.08358854 0.08366782 0.0796152  0.0796152  0.06372522\n",
      " 0.06372522 0.0537339  0.0537339  0.0488352  0.06052507 0.06052507\n",
      " 0.02021442 0.02021442 0.03283807 0.03283807 0.04545316 0.04545316\n",
      " 0.02675437 0.02675437]\n"
     ]
    }
   ],
   "source": [
    "from numpy.random import Generator, PCG64\n",
    "rng = Generator(PCG64())\n",
    "\n",
    "alpha = .85\n",
    "N = 50\n",
    "P = rng.integers(2,size=[N,N]) ## Generate an nxn random matrix of 0s and 1s\n",
    "P = P/np.sum(P,0)              ## Normalize so that each column is zero\n",
    "teleport = np.ones([N,N]) / N\n",
    "[V,D] = np.linalg.eig(alpha*P + (1-alpha)*teleport)\n",
    "print(np.abs(V))"
   ]
  },
  {
   "cell_type": "markdown",
   "id": "4bd44f88-fc11-4f02-ad7c-a041ebb69df3",
   "metadata": {},
   "source": [
    "Above we should see only one eigenvalue with magnitude 1, and all other eigenvalues have magnitude between 0 and 1"
   ]
  },
  {
   "cell_type": "markdown",
   "id": "ddc6055e-9b0a-4b3e-b46b-52501e8e0c92",
   "metadata": {},
   "source": [
    "How to compute ranking vector? Can do so using iterative process"
   ]
  },
  {
   "cell_type": "code",
   "execution_count": 17,
   "id": "50c64a9b-2909-4646-973d-d1d9b8a33502",
   "metadata": {
    "tags": []
   },
   "outputs": [],
   "source": [
    "def PageRank(P,alpha):\n",
    "    # Rank pages in the web, given by matrix P, with a teleporting parameter of alpha. \n",
    "    N = np.size(P,1)\n",
    "    x = np.ones(N)/N\n",
    "    teleport = np.ones(N)/N\n",
    "    maxIter = 100000\n",
    "    for k in range(maxIter):\n",
    "        x = alpha*P.dot(x) + (1-alpha)*teleport\n",
    "    \n",
    "    return x"
   ]
  },
  {
   "cell_type": "code",
   "execution_count": 18,
   "id": "f1058e1b-d974-443b-b174-d188457332d7",
   "metadata": {
    "tags": []
   },
   "outputs": [
    {
     "name": "stdout",
     "output_type": "stream",
     "text": [
      "[0.01060043 0.01067501 0.00922863 0.01053159 0.00927021 0.00927028\n",
      " 0.01094494 0.00867916 0.01060522 0.00777192 0.01040179 0.01042609\n",
      " 0.01087005 0.00978826 0.01011405 0.01004143 0.00972503 0.01021163\n",
      " 0.0096648  0.01078949 0.00940126 0.00992869 0.00800818 0.00928596\n",
      " 0.0094977  0.00927572 0.01151225 0.00919604 0.01139111 0.01079805\n",
      " 0.00895124 0.00920629 0.00960527 0.00999075 0.0105156  0.00988651\n",
      " 0.00837149 0.01209206 0.00870791 0.00988515 0.00992839 0.01010159\n",
      " 0.01035176 0.01136676 0.00922675 0.00957575 0.00995562 0.01053603\n",
      " 0.01134778 0.01005141 0.00908504 0.00873303 0.0094535  0.01031518\n",
      " 0.01080921 0.00862697 0.01092796 0.01054675 0.00969796 0.00912532\n",
      " 0.00950293 0.0110433  0.01025793 0.01050908 0.00991139 0.01035763\n",
      " 0.01206668 0.00974198 0.00831198 0.01027195 0.01058395 0.01093082\n",
      " 0.00794084 0.01022685 0.01033138 0.00962162 0.00903742 0.01167363\n",
      " 0.00928793 0.01108674 0.00996756 0.00893479 0.0104298  0.00909806\n",
      " 0.01115378 0.01035933 0.00890277 0.00972988 0.01029731 0.00863555\n",
      " 0.01071857 0.01035439 0.01017067 0.01055202 0.0100945  0.01047631\n",
      " 0.01048001 0.0101703  0.01025809 0.01164033]\n"
     ]
    }
   ],
   "source": [
    "alpha = .85\n",
    "N = 100\n",
    "P = rng.integers(2,size=[N,N])\n",
    "P = P/np.sum(P,0)\n",
    "x = PageRank(P,alpha)\n",
    "print(x)"
   ]
  }
 ],
 "metadata": {
  "kernelspec": {
   "display_name": "Python 3",
   "language": "python",
   "name": "python3"
  },
  "language_info": {
   "codemirror_mode": {
    "name": "ipython",
    "version": 3
   },
   "file_extension": ".py",
   "mimetype": "text/x-python",
   "name": "python",
   "nbconvert_exporter": "python",
   "pygments_lexer": "ipython3",
   "version": "3.9.10"
  }
 },
 "nbformat": 4,
 "nbformat_minor": 5
}
