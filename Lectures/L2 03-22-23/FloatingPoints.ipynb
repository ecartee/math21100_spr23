{
 "cells": [
  {
   "cell_type": "markdown",
   "id": "35307a9d-7701-45ba-98ef-9b8d45506113",
   "metadata": {},
   "source": [
    "Import package numpy, which has a lot of useful features for numerical computations"
   ]
  },
  {
   "cell_type": "code",
   "execution_count": 1,
   "id": "9bbc8a7d-3e6e-4e3b-b915-6b3fe2a0738a",
   "metadata": {
    "tags": []
   },
   "outputs": [],
   "source": [
    "import numpy as np"
   ]
  },
  {
   "cell_type": "markdown",
   "id": "bb105b03-a595-4f40-bd8e-65c01f048d17",
   "metadata": {},
   "source": [
    "Numpy already contains a floating point representation of pi"
   ]
  },
  {
   "cell_type": "code",
   "execution_count": 2,
   "id": "0e835325-d49c-4e38-bde0-1149aa7dc24c",
   "metadata": {
    "tags": []
   },
   "outputs": [
    {
     "name": "stdout",
     "output_type": "stream",
     "text": [
      "3.141592653589793\n"
     ]
    }
   ],
   "source": [
    "print(np.pi)"
   ]
  },
  {
   "cell_type": "markdown",
   "id": "67be70f2-10fe-4ed9-9d99-ebc0b5c6d142",
   "metadata": {},
   "source": [
    "If we try to enter more digits, it will simply round to value above"
   ]
  },
  {
   "cell_type": "code",
   "execution_count": 3,
   "id": "fb4d090b-1603-401a-ae11-4ba2713cd3da",
   "metadata": {
    "tags": []
   },
   "outputs": [
    {
     "name": "stdout",
     "output_type": "stream",
     "text": [
      "3.141592653589793\n"
     ]
    }
   ],
   "source": [
    "pi = 3.1415926535897932384626433\n",
    "print(pi)"
   ]
  },
  {
   "cell_type": "markdown",
   "id": "3a6ca577-141a-4973-b767-a01ba7d18fb5",
   "metadata": {},
   "source": [
    "Note: two different real numbers may round to the same floating point!"
   ]
  },
  {
   "cell_type": "code",
   "execution_count": 4,
   "id": "a6f9c311-128b-47b4-a2d7-03d89096dd41",
   "metadata": {
    "tags": []
   },
   "outputs": [
    {
     "data": {
      "text/plain": [
       "True"
      ]
     },
     "execution_count": 4,
     "metadata": {},
     "output_type": "execute_result"
    }
   ],
   "source": [
    "## Kind of a silly example, but still\n",
    "3.1415926535897932384626433 == 3.1415926535897932384626438"
   ]
  },
  {
   "cell_type": "markdown",
   "id": "0d16dcbf-3374-47a5-bd71-040afd52c32a",
   "metadata": {},
   "source": [
    "Note: operations that are the same in real numbers may lead to different floating point numbers!"
   ]
  },
  {
   "cell_type": "code",
   "execution_count": 5,
   "id": "aefaeb92-08fe-4240-9dda-225d704ff8a7",
   "metadata": {
    "tags": []
   },
   "outputs": [
    {
     "data": {
      "text/plain": [
       "-1.1102230246251565e-16"
      ]
     },
     "execution_count": 5,
     "metadata": {},
     "output_type": "execute_result"
    }
   ],
   "source": [
    "## This should be zero, right?\n",
    "10/3 - 1/3 - 7/3 - 2/3"
   ]
  },
  {
   "cell_type": "code",
   "execution_count": 6,
   "id": "b7a20500-18eb-47d5-8c76-976e39ca144e",
   "metadata": {
    "tags": []
   },
   "outputs": [
    {
     "data": {
      "text/plain": [
       "0.99999934"
      ]
     },
     "execution_count": 6,
     "metadata": {},
     "output_type": "execute_result"
    }
   ],
   "source": [
    "## cosine of even multiple of pi should be zero, right?\n",
    "np.cos(np.float32(52962*np.pi))"
   ]
  },
  {
   "cell_type": "markdown",
   "id": "30ec06cc-a177-415d-88d5-0899f17ceb6d",
   "metadata": {},
   "source": [
    "Python's default floating-point type is double precision"
   ]
  },
  {
   "cell_type": "code",
   "execution_count": 7,
   "id": "967355a6-68d3-4e42-82f9-0535f9e3cc6b",
   "metadata": {
    "tags": []
   },
   "outputs": [
    {
     "data": {
      "text/plain": [
       "float"
      ]
     },
     "execution_count": 7,
     "metadata": {},
     "output_type": "execute_result"
    }
   ],
   "source": [
    "## We can check the type of any number/variable in Python\n",
    "type(np.pi)\n",
    "## 'float' is Python's name for double-precision floating point number"
   ]
  },
  {
   "cell_type": "markdown",
   "id": "de4f6922-06fa-440c-8bc0-853271bd7f4f",
   "metadata": {},
   "source": [
    "We can also find the maximum relative accuracy (known as machine epsilon):"
   ]
  },
  {
   "cell_type": "code",
   "execution_count": 8,
   "id": "f4e60d26-3cae-4539-9005-dbaa6e7ef26d",
   "metadata": {
    "tags": []
   },
   "outputs": [
    {
     "name": "stdout",
     "output_type": "stream",
     "text": [
      "1.1920929e-07\n",
      "2.220446049250313e-16\n",
      "2.220446049250313e-16\n"
     ]
    }
   ],
   "source": [
    "## Single precision\n",
    "print(np.finfo(np.float32).eps)\n",
    "\n",
    "## Double precision\n",
    "print(np.finfo(float).eps)\n",
    "\n",
    "## Theoretical value (for double)\n",
    "print(2**(-52))"
   ]
  },
  {
   "cell_type": "markdown",
   "id": "20b9a833-3ffc-4c9b-bf5b-1362ff684e9e",
   "metadata": {},
   "source": [
    "There is a maximum floating point number:"
   ]
  },
  {
   "cell_type": "code",
   "execution_count": 9,
   "id": "215e1751-4dc0-4e9b-a02a-68753a581c76",
   "metadata": {
    "tags": []
   },
   "outputs": [
    {
     "name": "stdout",
     "output_type": "stream",
     "text": [
      "3.4028235e+38\n",
      "1.7976931348623157e+308\n"
     ]
    }
   ],
   "source": [
    "print(np.finfo(np.float32).max)\n",
    "print(np.finfo(float).max)"
   ]
  },
  {
   "cell_type": "markdown",
   "id": "99f3517e-7ce2-48ca-9afe-2c5ce321bca8",
   "metadata": {},
   "source": [
    "Minimum is the same (with sign flipped)"
   ]
  },
  {
   "cell_type": "code",
   "execution_count": 10,
   "id": "156bb237-b021-4226-905f-9d89a7bfbfdd",
   "metadata": {
    "tags": []
   },
   "outputs": [
    {
     "name": "stdout",
     "output_type": "stream",
     "text": [
      "-3.4028235e+38\n",
      "-1.7976931348623157e+308\n"
     ]
    }
   ],
   "source": [
    "print(np.finfo(np.float32).min)\n",
    "print(np.finfo(float).min)"
   ]
  },
  {
   "cell_type": "markdown",
   "id": "decef6ae-830e-4d71-8b1c-506032abaef5",
   "metadata": {},
   "source": [
    "The smallest (in magnitude) floating point number is:"
   ]
  },
  {
   "cell_type": "code",
   "execution_count": 11,
   "id": "96544dbc-cf49-4ec6-a17c-8ba3a288c69c",
   "metadata": {
    "tags": []
   },
   "outputs": [
    {
     "name": "stdout",
     "output_type": "stream",
     "text": [
      "2.2250738585072014e-308\n"
     ]
    },
    {
     "data": {
      "text/plain": [
       "2.2250738585072014e-308"
      ]
     },
     "execution_count": 11,
     "metadata": {},
     "output_type": "execute_result"
    }
   ],
   "source": [
    "## Note that this is a very different quantity from machine epsilon above\n",
    "print(np.finfo(float).smallest_normal)\n",
    "2**(-1022)"
   ]
  },
  {
   "cell_type": "markdown",
   "id": "6c3d92a2-c9c4-452a-b000-0a69f6c5d3cf",
   "metadata": {},
   "source": [
    "Can actually get even smaller by using subnormal numbers, which start with a 0 instead of a 1 before the decimal point"
   ]
  },
  {
   "cell_type": "code",
   "execution_count": 12,
   "id": "30261c18-e6c8-4a08-b187-f12fbdb651a9",
   "metadata": {
    "tags": []
   },
   "outputs": [
    {
     "name": "stdout",
     "output_type": "stream",
     "text": [
      "5e-324\n"
     ]
    },
    {
     "data": {
      "text/plain": [
       "5e-324"
      ]
     },
     "execution_count": 12,
     "metadata": {},
     "output_type": "execute_result"
    }
   ],
   "source": [
    "print(np.finfo(float).smallest_subnormal)\n",
    "2**(-1022-52)"
   ]
  },
  {
   "cell_type": "code",
   "execution_count": null,
   "id": "d743d54f-bfbc-4492-be32-6549fe45bd7b",
   "metadata": {},
   "outputs": [],
   "source": []
  }
 ],
 "metadata": {
  "kernelspec": {
   "display_name": "Python 3",
   "language": "python",
   "name": "python3"
  },
  "language_info": {
   "codemirror_mode": {
    "name": "ipython",
    "version": 3
   },
   "file_extension": ".py",
   "mimetype": "text/x-python",
   "name": "python",
   "nbconvert_exporter": "python",
   "pygments_lexer": "ipython3",
   "version": "3.9.10"
  }
 },
 "nbformat": 4,
 "nbformat_minor": 5
}
