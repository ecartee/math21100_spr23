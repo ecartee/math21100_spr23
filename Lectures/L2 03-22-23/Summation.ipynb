{
 "cells": [
  {
   "cell_type": "markdown",
   "id": "23035c95-f341-4be8-a963-715717b2576d",
   "metadata": {},
   "source": [
    "Import numpy for numerical computations"
   ]
  },
  {
   "cell_type": "code",
   "execution_count": 1,
   "id": "af202f1e-04de-47af-9eea-36c3e3696e7e",
   "metadata": {
    "tags": []
   },
   "outputs": [],
   "source": [
    "import numpy as np"
   ]
  },
  {
   "cell_type": "markdown",
   "id": "40871777-88cf-41d7-b780-c661b0b24300",
   "metadata": {},
   "source": [
    "Compute telescoping sum in single precision"
   ]
  },
  {
   "cell_type": "code",
   "execution_count": 2,
   "id": "191d1a17-e940-4412-bd2a-93a89599ae63",
   "metadata": {
    "tags": []
   },
   "outputs": [
    {
     "name": "stdout",
     "output_type": "stream",
     "text": [
      "0.9998527\n"
     ]
    }
   ],
   "source": [
    "N = 300000\n",
    "s1 = np.float32(0)  # Sum starts at 0\n",
    "for k in range(1,N+1):\n",
    "    s1 = np.float32(float(s1)+1/(k*(k+1)))  # computes sum in single precision\n",
    "    \n",
    "print(s1)"
   ]
  },
  {
   "cell_type": "markdown",
   "id": "56621346-13fe-41d6-9207-d578e9c7684a",
   "metadata": {},
   "source": [
    "Compute telescoping sum backwards in single precision"
   ]
  },
  {
   "cell_type": "code",
   "execution_count": 3,
   "id": "375eedb8-9d03-4c85-9f15-9ad4440188ff",
   "metadata": {
    "tags": []
   },
   "outputs": [
    {
     "name": "stdout",
     "output_type": "stream",
     "text": [
      "0.99999666\n"
     ]
    }
   ],
   "source": [
    "N = 300000\n",
    "s2 = np.float32(0)  # Sum starts at 0\n",
    "for k in range(N,0,-1):\n",
    "    s2 = np.float32(float(s2)+1/(k*(k+1)))  # computes sum in single precision\n",
    "    \n",
    "print(s2)"
   ]
  },
  {
   "cell_type": "markdown",
   "id": "b8c1f6ae-9d53-4b97-af3b-b9f80b854342",
   "metadata": {},
   "source": [
    "Compute telescoping sum in double precision"
   ]
  },
  {
   "cell_type": "code",
   "execution_count": 4,
   "id": "b8b7ff89-8450-4779-bced-001ac7c0902e",
   "metadata": {
    "tags": []
   },
   "outputs": [
    {
     "name": "stdout",
     "output_type": "stream",
     "text": [
      "0.9999966666667118\n"
     ]
    }
   ],
   "source": [
    "N = 300000\n",
    "s3 = 0.0  # Sum starts at 0\n",
    "for k in range(1,N):\n",
    "    s3 = float(s3)+1/(k*(k+1))  # computes sum in double precision\n",
    "    \n",
    "print(s3)"
   ]
  },
  {
   "cell_type": "markdown",
   "id": "cab63a7d-bef9-4a24-b9ec-d0d7c63f2896",
   "metadata": {},
   "source": [
    "Compare to exact value"
   ]
  },
  {
   "cell_type": "code",
   "execution_count": 5,
   "id": "037b2160-1f31-4705-a619-c435477ad476",
   "metadata": {
    "tags": []
   },
   "outputs": [
    {
     "name": "stdout",
     "output_type": "stream",
     "text": [
      "0.9999966666777778\n"
     ]
    }
   ],
   "source": [
    "exact = 1 - 1/(N+1)\n",
    "print(exact)"
   ]
  },
  {
   "cell_type": "markdown",
   "id": "9993f02d-c288-4715-b233-cecaa82a1c90",
   "metadata": {},
   "source": [
    "Compute errors"
   ]
  },
  {
   "cell_type": "code",
   "execution_count": 6,
   "id": "5dcdcdfd-9363-4d81-a25d-3fe2ec6e3d8b",
   "metadata": {
    "tags": []
   },
   "outputs": [
    {
     "name": "stdout",
     "output_type": "stream",
     "text": [
      "Error for single precision forwards:  0.0001439497550177471\n",
      "Error for single precision backwards: 4.5378851787347685e-09\n",
      "Error for double precision forwards:  1.1065925953346323e-11\n"
     ]
    }
   ],
   "source": [
    "print(\"Error for single precision forwards:  \" + str(abs(exact - s1)))\n",
    "print(\"Error for single precision backwards: \" + str(abs(exact - s2)))\n",
    "print(\"Error for double precision forwards:  \" + str(abs(exact - s3)))"
   ]
  },
  {
   "cell_type": "code",
   "execution_count": null,
   "id": "50df6db4-3d66-4461-9368-c53e9b17210d",
   "metadata": {},
   "outputs": [],
   "source": []
  }
 ],
 "metadata": {
  "kernelspec": {
   "display_name": "Python 3",
   "language": "python",
   "name": "python3"
  },
  "language_info": {
   "codemirror_mode": {
    "name": "ipython",
    "version": 3
   },
   "file_extension": ".py",
   "mimetype": "text/x-python",
   "name": "python",
   "nbconvert_exporter": "python",
   "pygments_lexer": "ipython3",
   "version": "3.9.10"
  }
 },
 "nbformat": 4,
 "nbformat_minor": 5
}
