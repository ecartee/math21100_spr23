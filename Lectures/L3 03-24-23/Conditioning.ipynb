{
 "cells": [
  {
   "cell_type": "code",
   "execution_count": 1,
   "id": "124a0195-c706-4077-a953-54f9e41e799e",
   "metadata": {
    "tags": []
   },
   "outputs": [],
   "source": [
    "import numpy as np"
   ]
  },
  {
   "cell_type": "markdown",
   "id": "6074e346-b501-429b-855e-ecfc35d15e42",
   "metadata": {
    "tags": []
   },
   "source": [
    "The process in section 2.3 of Kincaid and Cheney can be written in matrix form:\n",
    "$$ \\begin{bmatrix} x_0 \\\\ x_1 \\end{bmatrix} = \\begin{bmatrix} 1/3 \\\\ 1 \\end{bmatrix}$$\n",
    "$$ \\begin{bmatrix} x_{n+1} \\\\ x_n \\end{bmatrix} = A \\begin{bmatrix} x_{n} \\\\ x_{n-1} \\end{bmatrix} = \\begin{bmatrix} 4/3 & -1/3 \\\\ 1 & 0 \\end{bmatrix} \\begin{bmatrix} x_{n} \\\\ x_{n-1} \\end{bmatrix} $$"
   ]
  },
  {
   "cell_type": "markdown",
   "id": "2e57e6ed-72f9-4081-9400-bde4ba62e9ee",
   "metadata": {},
   "source": [
    "As an aside, I'm manually setting the data type to single-precision floats here to match the book, but you can check that the same issue occurs even with double-precision."
   ]
  },
  {
   "cell_type": "code",
   "execution_count": 2,
   "id": "40e9c1d5-c8c9-496c-aa95-d25e4bdae676",
   "metadata": {
    "tags": []
   },
   "outputs": [
    {
     "name": "stdout",
     "output_type": "stream",
     "text": [
      "[[ 4.3333335 -1.3333334]\n",
      " [ 1.         0.       ]]\n",
      "[[0.33333334]\n",
      " [1.        ]]\n"
     ]
    }
   ],
   "source": [
    "A = np.matrix([[13/3,-4/3],[1,0]], dtype=np.float32)\n",
    "print(A)\n",
    "x0 = np.matrix([[1/3],[1]], dtype=np.float32)\n",
    "print(x0)"
   ]
  },
  {
   "cell_type": "markdown",
   "id": "f1f6e7ed-0df1-48c8-aa1e-288824e5e644",
   "metadata": {},
   "source": [
    "While we can calculate the exact answer to be:\n",
    "$$ x_n = \\left(\\frac{1}{3}\\right)^n $$\n",
    "\n",
    "We can see that the process is numerically unstable:"
   ]
  },
  {
   "cell_type": "code",
   "execution_count": 3,
   "id": "02348e18-d1bc-4189-b8a7-e24648a88185",
   "metadata": {
    "tags": []
   },
   "outputs": [
    {
     "name": "stdout",
     "output_type": "stream",
     "text": [
      "x_0 = [[0.33333334]]\n",
      "x_1 = [[0.11111116]]\n",
      "x_2 = [[0.03703725]]\n",
      "x_3 = [[0.01234655]]\n",
      "x_4 = [[0.00411871]]\n",
      "x_5 = [[0.00138569]]\n",
      "x_6 = [[0.00051306]]\n",
      "x_7 = [[0.00037565]]\n",
      "x_8 = [[0.00094375]]\n",
      "x_9 = [[0.00358871]]\n",
      "x_10 = [[0.01429273]]\n",
      "x_11 = [[0.05715021]]\n",
      "x_12 = [[0.22859395]]\n",
      "x_13 = [[0.9143735]]\n",
      "x_14 = [[3.6574934]]\n"
     ]
    }
   ],
   "source": [
    "x = x0\n",
    "for n in range(15):\n",
    "    x = A * x\n",
    "    print('x_' + str(n) + ' = ' + str(x[1]))"
   ]
  },
  {
   "cell_type": "markdown",
   "id": "e3e0045c-8424-473f-92a2-823d817eb732",
   "metadata": {},
   "source": [
    "We also see that the condition number $\\kappa(A) = ||A|| \\cdot ||A^{-1}||$ is quite high:"
   ]
  },
  {
   "cell_type": "code",
   "execution_count": 4,
   "id": "85b93dcb-6e32-4039-ae4e-af6841019f62",
   "metadata": {
    "tags": []
   },
   "outputs": [
    {
     "name": "stdout",
     "output_type": "stream",
     "text": [
      "16.104572\n"
     ]
    }
   ],
   "source": [
    "print(np.linalg.cond(A))"
   ]
  },
  {
   "cell_type": "markdown",
   "id": "0393d1d9-952f-40dd-b14f-17cf291dfba6",
   "metadata": {},
   "source": [
    "For some insight into why the process is unstable, we can see from diagonalization that even working  in $\\mathbb{R}$, that we can write this process as\n",
    "$$ \\begin{bmatrix} x_{n+1} \\\\ x_n \\end{bmatrix} = A^n \\begin{bmatrix} x_1 \\\\ x_0 \\end{bmatrix} $$"
   ]
  },
  {
   "cell_type": "markdown",
   "id": "437ddbb8-5a36-4c28-bab9-bb76a1d4f0e8",
   "metadata": {},
   "source": [
    "Which we can diagonalize to find that $$\\begin{bmatrix} x_{n+1} \\\\ x_n \\end{bmatrix} = c_1 \\left(\\frac{1}{3}\\right)^n \\begin{bmatrix} 3 \\\\ 1 \\end{bmatrix} + c_2 (4)^n \\begin{bmatrix} 1 \\\\ 4 \\end{bmatrix}$$\n",
    "\n",
    "where $c_1$ and $c_2$ are constants that depend upon $x_0$ and $x_1$. For the example above, we were looking at $c_1=1/3$ and $c_2=0$, and so the results would decrease exponentially towards zero. However, if $c_2$ is any non-zero quantity, even something small, then the second term will dominate and eventually the sequence will be increasing exponentially."
   ]
  },
  {
   "cell_type": "markdown",
   "id": "a7baca86-0628-49bc-8e82-6405a6a73d0f",
   "metadata": {},
   "source": [
    "Of course, the code above is computing floating-point rounding/approximations at every step, which makes the process more complicated overall. But from the above we can see why even small errors can propagate exponentially as the series increases"
   ]
  },
  {
   "cell_type": "code",
   "execution_count": null,
   "id": "15277e93-a9e7-46ab-ac8f-7efd43ed4441",
   "metadata": {},
   "outputs": [],
   "source": []
  }
 ],
 "metadata": {
  "kernelspec": {
   "display_name": "Python 3",
   "language": "python",
   "name": "python3"
  },
  "language_info": {
   "codemirror_mode": {
    "name": "ipython",
    "version": 3
   },
   "file_extension": ".py",
   "mimetype": "text/x-python",
   "name": "python",
   "nbconvert_exporter": "python",
   "pygments_lexer": "ipython3",
   "version": "3.9.10"
  }
 },
 "nbformat": 4,
 "nbformat_minor": 5
}
