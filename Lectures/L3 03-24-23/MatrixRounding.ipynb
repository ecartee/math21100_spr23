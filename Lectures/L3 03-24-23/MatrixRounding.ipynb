{
 "cells": [
  {
   "cell_type": "code",
   "execution_count": 1,
   "id": "fe4057ba-a3a1-46aa-9f3e-aad774831b18",
   "metadata": {
    "tags": []
   },
   "outputs": [],
   "source": [
    "import numpy as np"
   ]
  },
  {
   "cell_type": "markdown",
   "id": "ea642114-b49f-4956-8aa8-d862c21c4fd6",
   "metadata": {},
   "source": [
    "Let's suppose we want to solve the linear system of equations\n",
    "$$\\begin{align} 10^{-20}x + 2y& =1 \\\\ x + y &= 1 \\end{align}$$\n",
    "\n",
    "This is equivalent to row reducing the following augmented matrix\n",
    "$$ A = \\begin{bmatrix} 10^{-20} & 2 & 1 \\\\ 1 & 1 & 1 \\end{bmatrix}$$"
   ]
  },
  {
   "cell_type": "code",
   "execution_count": 2,
   "id": "215a8369-f582-4c0a-8227-edbecce80af1",
   "metadata": {
    "tags": []
   },
   "outputs": [
    {
     "name": "stdout",
     "output_type": "stream",
     "text": [
      "[[1.e-20 2.e+00 1.e+00]\n",
      " [1.e+00 1.e+00 1.e+00]]\n"
     ]
    }
   ],
   "source": [
    "A = np.matrix([[10**(-20), 2, 1],[1,1,1]])\n",
    "print(A)"
   ]
  },
  {
   "cell_type": "markdown",
   "id": "87629b7c-00cd-41fe-9dad-1aea7dbaab12",
   "metadata": {},
   "source": [
    "Let's try to solve this by doing row reduction, telling numpy what to do for each step\n",
    "\n",
    "We'll start with the top left entry as the pivot"
   ]
  },
  {
   "cell_type": "code",
   "execution_count": 3,
   "id": "a9e08234-4734-40e1-ac68-1f43bed635a2",
   "metadata": {
    "tags": []
   },
   "outputs": [
    {
     "name": "stdout",
     "output_type": "stream",
     "text": [
      "[[1.e+00 2.e+20 1.e+20]\n",
      " [1.e+00 1.e+00 1.e+00]]\n"
     ]
    }
   ],
   "source": [
    "## Multiplying first row by 10^(20) to turn first pivot into 1\n",
    "A[0,:] = A[0,:]/A[0,0]\n",
    "print(A)"
   ]
  },
  {
   "cell_type": "code",
   "execution_count": 4,
   "id": "175abd6b-6837-4741-8c10-79399904256b",
   "metadata": {
    "tags": []
   },
   "outputs": [
    {
     "name": "stdout",
     "output_type": "stream",
     "text": [
      "[[ 1.e+00  2.e+20  1.e+20]\n",
      " [ 0.e+00 -2.e+20 -1.e+20]]\n"
     ]
    }
   ],
   "source": [
    "## Subtracting second row from first row\n",
    "A[1,:] = A[1,:] - A[0,:]\n",
    "print(A)"
   ]
  },
  {
   "cell_type": "code",
   "execution_count": 5,
   "id": "a915808b-c252-4709-b806-b1e15c5269a4",
   "metadata": {
    "tags": []
   },
   "outputs": [
    {
     "name": "stdout",
     "output_type": "stream",
     "text": [
      "[[ 1.e+00  2.e+20  1.e+20]\n",
      " [-0.e+00  1.e+00  5.e-01]]\n"
     ]
    }
   ],
   "source": [
    "## Dividing second row by 2*10^(20) to turn second pivot into 1\n",
    "A[1,:] = A[1,:]/A[1,1]\n",
    "print(A)"
   ]
  },
  {
   "cell_type": "code",
   "execution_count": 6,
   "id": "eb074de0-c63d-429c-896e-c175ed53a3f0",
   "metadata": {
    "tags": []
   },
   "outputs": [
    {
     "name": "stdout",
     "output_type": "stream",
     "text": [
      "[[ 1.   0.   0. ]\n",
      " [-0.   1.   0.5]]\n"
     ]
    }
   ],
   "source": [
    "## Adding multiple of second row onto first row to cancel out top right entry\n",
    "A[0,:] = A[0,:] - (A[0,1]/A[1,1])*A[1,:]\n",
    "print(A)"
   ]
  },
  {
   "cell_type": "code",
   "execution_count": 7,
   "id": "d34edccb-eed8-4532-8c12-4ede1cd55a63",
   "metadata": {
    "tags": []
   },
   "outputs": [
    {
     "name": "stdout",
     "output_type": "stream",
     "text": [
      "x = 0.0\n",
      "y = 0.5\n"
     ]
    }
   ],
   "source": [
    "## Read off answers\n",
    "print('x = ' + str(A[0,2]))\n",
    "print('y = ' + str(A[1,2]))"
   ]
  },
  {
   "cell_type": "markdown",
   "id": "728cc1fe-83ae-4f6b-916c-fa5e0770548a",
   "metadata": {},
   "source": [
    "The above is quite different from the actual solution of $x = \\frac{1}{2-10^{-20}}, \\, y = \\frac{1-10^{-20}}{2-10^{-20}}$"
   ]
  },
  {
   "cell_type": "markdown",
   "id": "caa9a2a6-0c8e-42c8-bf7c-817c52c17e14",
   "metadata": {},
   "source": [
    "Fortunately, numpy is smarter than us when choosing its pivots so it avoids this problem by choosing its pivots carefully (typically the pivot with the largest magnitude)"
   ]
  },
  {
   "cell_type": "code",
   "execution_count": 8,
   "id": "5548b336-14f5-4139-b59e-3cc2dbba9498",
   "metadata": {
    "tags": []
   },
   "outputs": [
    {
     "name": "stdout",
     "output_type": "stream",
     "text": [
      "numpy.linalg.solve gets: \n",
      "x = [[0.5]]\n",
      "y = [[0.5]]\n"
     ]
    }
   ],
   "source": [
    "A = np.matrix([[10**(-20), 2],[1,1]])\n",
    "b = np.matrix([[1],[1]])\n",
    "sol = np.linalg.solve(A,b)\n",
    "print('numpy.linalg.solve gets: ')\n",
    "print('x = ' + str(sol[0]))\n",
    "print('y = ' + str(sol[1]))"
   ]
  },
  {
   "cell_type": "markdown",
   "id": "836de022-f901-47d7-b9ea-b6d2a5b9a88d",
   "metadata": {},
   "source": [
    "Which is the correct solution (up to double-precision floating points)"
   ]
  },
  {
   "cell_type": "code",
   "execution_count": 9,
   "id": "9347df89-eb0e-447e-847d-225e0a91d662",
   "metadata": {
    "tags": []
   },
   "outputs": [
    {
     "name": "stdout",
     "output_type": "stream",
     "text": [
      "Manually inputting exact solution and then rounding gets: \n",
      "x = 0.5\n",
      "y = 0.5\n"
     ]
    }
   ],
   "source": [
    "print('Manually inputting exact solution and then rounding gets: ')\n",
    "print('x = ' + str(1/(2-10**(-20))))\n",
    "print('y = ' + str((1-10**(-20))/(2-10**(-20))))"
   ]
  },
  {
   "cell_type": "markdown",
   "id": "5ba4f884-2bca-4bb9-b8c1-5a10014eb8c0",
   "metadata": {},
   "source": [
    "Note that despite our problems with manually row reducing, the condition number $\\kappa(A) = ||A||\\cdot||A^{-1}||$ for this example isn't actually that high:"
   ]
  },
  {
   "cell_type": "code",
   "execution_count": 10,
   "id": "69045f04-5cfb-4cc0-9953-023732bede2a",
   "metadata": {
    "tags": []
   },
   "outputs": [
    {
     "name": "stdout",
     "output_type": "stream",
     "text": [
      "2.6180339887498953\n"
     ]
    }
   ],
   "source": [
    "print(np.linalg.cond(A))"
   ]
  },
  {
   "cell_type": "code",
   "execution_count": null,
   "id": "01c53824-88ca-4031-93b4-87eb6559f44f",
   "metadata": {},
   "outputs": [],
   "source": []
  }
 ],
 "metadata": {
  "kernelspec": {
   "display_name": "Python 3",
   "language": "python",
   "name": "python3"
  },
  "language_info": {
   "codemirror_mode": {
    "name": "ipython",
    "version": 3
   },
   "file_extension": ".py",
   "mimetype": "text/x-python",
   "name": "python",
   "nbconvert_exporter": "python",
   "pygments_lexer": "ipython3",
   "version": "3.9.10"
  }
 },
 "nbformat": 4,
 "nbformat_minor": 5
}
