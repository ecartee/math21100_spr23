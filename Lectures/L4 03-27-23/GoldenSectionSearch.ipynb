{
 "cells": [
  {
   "cell_type": "code",
   "execution_count": 1,
   "id": "5e9dac34-b112-4a5a-8cec-d6ae28c2940e",
   "metadata": {
    "tags": []
   },
   "outputs": [],
   "source": [
    "import numpy as np\n",
    "import matplotlib.pyplot as plt"
   ]
  },
  {
   "cell_type": "markdown",
   "id": "65ef765a-599a-427a-8ce3-00e951fdbcf2",
   "metadata": {},
   "source": [
    "Here is a recursive implementation of golden section search (does not re-use function evaluations, so could be optimized further):"
   ]
  },
  {
   "cell_type": "code",
   "execution_count": 2,
   "id": "1a1658e4-b3f5-42ef-9ad3-e3dab99f0a3c",
   "metadata": {
    "tags": []
   },
   "outputs": [],
   "source": [
    "## Golden ratio\n",
    "phi = (1 + np.sqrt(5)) / 2\n",
    "\n",
    "## Find maximizer x of function f(x). Assumes f only has one local min between a and b\n",
    "def GoldenSectionSearch(f,a,b,tol):\n",
    "    ## f: function to be maximized\n",
    "    ## a: left endpoint of interval\n",
    "    ## b: right endpoint of interval\n",
    "    ## tol: tolerance in finding maximizer\n",
    "    \n",
    "    ## Find interior points\n",
    "    c = b - (b-a) / phi\n",
    "    d = a + (b-a) / phi\n",
    "    while(abs(c-d) > tol):\n",
    "        ## Evaluate function at interior points\n",
    "        f_c = f(c)\n",
    "        f_d = f(d)\n",
    "        if (f_c > f_d):\n",
    "            ## New triplet is [a,c,d]\n",
    "            b = d\n",
    "        else:\n",
    "            ## New triplet is [c,d,b]\n",
    "            a = c\n",
    "        \n",
    "        ## Find new interior points\n",
    "        c = b - (b-a) / phi\n",
    "        d = a + (b-a) / phi\n",
    "        \n",
    "    ## Return midpoint of interval    \n",
    "    return (b+a)/2\n",
    "    "
   ]
  },
  {
   "cell_type": "markdown",
   "id": "228cbd80-eb77-482c-b539-2940f2dc5607",
   "metadata": {},
   "source": [
    "The function to minimize goes here:"
   ]
  },
  {
   "cell_type": "code",
   "execution_count": 3,
   "id": "1c1219d7-f31c-4f21-bdaa-410e983badf1",
   "metadata": {
    "tags": []
   },
   "outputs": [],
   "source": [
    "def f(x):\n",
    "    return x * np.sin(x)"
   ]
  },
  {
   "cell_type": "code",
   "execution_count": 4,
   "id": "91d4ef41-468f-4320-8797-6a3ae16e2aa6",
   "metadata": {
    "tags": []
   },
   "outputs": [
    {
     "name": "stdout",
     "output_type": "stream",
     "text": [
      "2.028757846894175\n",
      "1.8197057411596531\n"
     ]
    }
   ],
   "source": [
    "a = 0\n",
    "b = np.pi\n",
    "tol = 1e-10\n",
    "c = GoldenSectionSearch(f,a,b,tol)\n",
    "print(c)\n",
    "print(f(c))"
   ]
  },
  {
   "cell_type": "markdown",
   "id": "0d4f281e-b47b-454f-84a2-45c7cbced6e3",
   "metadata": {},
   "source": [
    "Plot results"
   ]
  },
  {
   "cell_type": "code",
   "execution_count": 5,
   "id": "5fbd0140-0c7e-497a-a985-f91505ab1c52",
   "metadata": {
    "tags": []
   },
   "outputs": [
    {
     "data": {
      "image/png": "[encoded data removed]",
      "text/plain": [
       "<Figure size 432x288 with 1 Axes>"
      ]
     },
     "metadata": {
      "needs_background": "light"
     },
     "output_type": "display_data"
    }
   ],
   "source": [
    "x = np.linspace(0,np.pi,1000)\n",
    "y = f(x)\n",
    "[ax,fig] = plt.subplots()\n",
    "plt.plot(x,y,'r', label='f(x)')\n",
    "plt.plot(c,f(c),'bo', label = 'c')\n",
    "plt.legend()\n",
    "plt.show()"
   ]
  },
  {
   "cell_type": "code",
   "execution_count": null,
   "id": "5bea6c56-1d25-4366-b1d3-b6a74b74d757",
   "metadata": {},
   "outputs": [],
   "source": []
  }
 ],
 "metadata": {
  "kernelspec": {
   "display_name": "Python 3",
   "language": "python",
   "name": "python3"
  },
  "language_info": {
   "codemirror_mode": {
    "name": "ipython",
    "version": 3
   },
   "file_extension": ".py",
   "mimetype": "text/x-python",
   "name": "python",
   "nbconvert_exporter": "python",
   "pygments_lexer": "ipython3",
   "version": "3.9.10"
  }
 },
 "nbformat": 4,
 "nbformat_minor": 5
}
