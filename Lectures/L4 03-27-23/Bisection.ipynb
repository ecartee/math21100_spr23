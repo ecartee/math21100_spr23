{
 "cells": [
  {
   "cell_type": "code",
   "execution_count": 1,
   "id": "ba79e21d-014c-422e-960b-4d9ecff3379e",
   "metadata": {
    "tags": []
   },
   "outputs": [],
   "source": [
    "import numpy as np\n",
    "import matplotlib.pyplot as plt"
   ]
  },
  {
   "cell_type": "markdown",
   "id": "8ba38610-0965-4843-8587-edcc40a783d1",
   "metadata": {},
   "source": [
    "Here we can implement the bisection method"
   ]
  },
  {
   "cell_type": "code",
   "execution_count": 2,
   "id": "8796a127-2b65-498c-8283-3b49ccc56c94",
   "metadata": {
    "tags": []
   },
   "outputs": [],
   "source": [
    "def Bisection(f,a,b,M,delta,eps):\n",
    "    ##### Try to find zero of continuous function f(x) using bisection method\n",
    "    ## a and b are endpoints of interval\n",
    "    ##      f(a),f(b) should have opposite signs\n",
    "    ## M is maximum number of iterations\n",
    "    ## delta is error threshold in x-coordinate\n",
    "    ## eps is error threshold in y-coordinate\n",
    "    \n",
    "    ## Evaluate function at endpoints and check signs\n",
    "    u = f(a)\n",
    "    v = f(b)\n",
    "    assert(a < b and np.sign(u) != np.sign(v))\n",
    "    e = b-a\n",
    "    \n",
    "    ## Main loop\n",
    "    for n in range(M):\n",
    "        ## Evaluate at midpoint\n",
    "        e = e / 2\n",
    "        c = (a + e)\n",
    "        w = f(c)\n",
    "        \n",
    "        ## Check termination criteria\n",
    "        if (abs(e) < delta or abs(w) < eps):\n",
    "            return c\n",
    "        else:\n",
    "            ## Repeat on subinterval\n",
    "            if (np.sign(w) != np.sign(u)):\n",
    "                ## Use [a,c] as new interval\n",
    "                b = c\n",
    "                v = w\n",
    "            else:\n",
    "                ## Use [c,b] as new interval\n",
    "                a = c\n",
    "                u = w\n",
    "    \n",
    "    return c    "
   ]
  },
  {
   "cell_type": "markdown",
   "id": "58f0a05d-94da-4da6-8af2-a3c4563c79e2",
   "metadata": {},
   "source": [
    "Let's try to use it to find the roots of a quadratic equation $x^2-x-1 = 0$"
   ]
  },
  {
   "cell_type": "code",
   "execution_count": 3,
   "id": "0bc940fc-774c-4f46-ac05-8c02bcea353d",
   "metadata": {
    "tags": []
   },
   "outputs": [],
   "source": [
    "def f(x):\n",
    "    return x**2-x-1"
   ]
  },
  {
   "cell_type": "code",
   "execution_count": 4,
   "id": "2291a752-570d-4d17-88f5-af2503fe7220",
   "metadata": {
    "tags": []
   },
   "outputs": [
    {
     "name": "stdout",
     "output_type": "stream",
     "text": [
      "1.6180339887505397\n",
      "1.4419576643831533e-12\n"
     ]
    }
   ],
   "source": [
    "delta = 1e-10\n",
    "eps = 1e-10\n",
    "a = 1\n",
    "b = 2\n",
    "M = 10000\n",
    "c = Bisection(f,a,b,M,delta,eps)\n",
    "print(c)\n",
    "print(f(c))"
   ]
  },
  {
   "cell_type": "markdown",
   "id": "73c611b7-227d-478c-89a9-5c4011755768",
   "metadata": {},
   "source": [
    "So we found the root $\\phi = \\frac{1+\\sqrt{5}}{2}$ up to an accuracy of ~10 decimal places"
   ]
  },
  {
   "cell_type": "code",
   "execution_count": 5,
   "id": "04602cca-ef24-4de8-abd0-5320e5e479ad",
   "metadata": {
    "tags": []
   },
   "outputs": [
    {
     "name": "stdout",
     "output_type": "stream",
     "text": [
      "1.618033988749895\n",
      "0.0\n"
     ]
    }
   ],
   "source": [
    "phi =(1+np.sqrt(5))/2\n",
    "print(phi)\n",
    "print(f(phi))\n"
   ]
  },
  {
   "cell_type": "markdown",
   "id": "f5d6462e-b701-468a-aa88-5e0c572ed122",
   "metadata": {},
   "source": [
    "Plot results"
   ]
  },
  {
   "cell_type": "code",
   "execution_count": 6,
   "id": "27d67f25-6740-4385-a01c-73ecfa8bf185",
   "metadata": {
    "tags": []
   },
   "outputs": [
    {
     "data": {
      "image/png": "[encoded data removed]",
      "text/plain": [
       "<Figure size 432x288 with 1 Axes>"
      ]
     },
     "metadata": {
      "needs_background": "light"
     },
     "output_type": "display_data"
    }
   ],
   "source": [
    "x = np.linspace(1,2,1000)\n",
    "y = f(x)\n",
    "[ax,fig] = plt.subplots()\n",
    "plt.plot(x,np.zeros(1000),'g--', label='0')\n",
    "plt.plot(x,y,'r', label='f(x)')\n",
    "plt.plot(c,f(c),'bo', label = 'c')\n",
    "plt.legend()\n",
    "plt.show()"
   ]
  },
  {
   "cell_type": "code",
   "execution_count": null,
   "id": "c66a9889-26f0-4786-a576-60fb0285e641",
   "metadata": {},
   "outputs": [],
   "source": []
  }
 ],
 "metadata": {
  "kernelspec": {
   "display_name": "Python 3",
   "language": "python",
   "name": "python3"
  },
  "language_info": {
   "codemirror_mode": {
    "name": "ipython",
    "version": 3
   },
   "file_extension": ".py",
   "mimetype": "text/x-python",
   "name": "python",
   "nbconvert_exporter": "python",
   "pygments_lexer": "ipython3",
   "version": "3.9.10"
  }
 },
 "nbformat": 4,
 "nbformat_minor": 5
}
